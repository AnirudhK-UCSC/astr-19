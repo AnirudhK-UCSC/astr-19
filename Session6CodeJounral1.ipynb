{
 "cells": [
  {
   "cell_type": "code",
   "execution_count": 7,
   "id": "89232611-5011-4496-91a3-26303ea5ade4",
   "metadata": {},
   "outputs": [],
   "source": [
    "import numpy as np\n",
    "def sin(x):\n",
    "    return np.sin(x)"
   ]
  },
  {
   "cell_type": "code",
   "execution_count": 8,
   "id": "f4ba8b6e-793e-4a1e-b0eb-9f089a8c5348",
   "metadata": {},
   "outputs": [],
   "source": [
    "def cos(x):\n",
    "    return np.cos(x)"
   ]
  },
  {
   "cell_type": "code",
   "execution_count": 9,
   "id": "01c07799-420b-4c55-bf0c-19f7267c49fa",
   "metadata": {},
   "outputs": [],
   "source": [
    "from astropy.table import Table\n",
    "x = np.linspace(0,2*np.pi,1000)\n",
    "sin = sin(x)\n",
    "cos = cos(x)\n",
    "data = Table([x,sin,cos],names=['x','sin(x)','cos(x)'])"
   ]
  },
  {
   "cell_type": "code",
   "execution_count": 10,
   "id": "2f3fd615-9f39-49eb-a55e-7b7905cc77c0",
   "metadata": {},
   "outputs": [
    {
     "name": "stdout",
     "output_type": "stream",
     "text": [
      " x  sin(x) cos(x)\n",
      "--- ------ ------\n",
      "0.0    0.0    1.0\n",
      "         x                  sin(x)              cos(x)      \n",
      "-------------------- -------------------- ------------------\n",
      "0.006289474781961547 0.006289433316067751 0.9999802213186835\n",
      "         x                  sin(x)              cos(x)      \n",
      "-------------------- -------------------- ------------------\n",
      "0.012578949563923095 0.012578617838741058 0.9999208860571256\n",
      "         x                  sin(x)             cos(x)      \n",
      "-------------------- ------------------- ------------------\n",
      "0.018868424345884642 0.01886730478446709 0.9998219965624733\n",
      "         x                 sin(x)              cos(x)     \n",
      "------------------- -------------------- -----------------\n",
      "0.02515789912784619 0.025155245389375847 0.999683556746534\n",
      "         x                sin(x)             cos(x)      \n",
      "------------------- ------------------ ------------------\n",
      "0.03144737390980774 0.0314421909191206 0.9995055720856217\n",
      "         x                  sin(x)             cos(x)      \n",
      "-------------------- ------------------- ------------------\n",
      "0.037736848691769284 0.03772789267871718 0.9992880496203402\n",
      "         x                 sin(x)             cos(x)      \n",
      "------------------- ------------------- ------------------\n",
      "0.04402632347373083 0.04401210202238166 0.9990309979553046\n",
      "         x                 sin(x)             cos(x)      \n",
      "------------------- ------------------- ------------------\n",
      "0.05031579825569238 0.05029457036336619 0.9987344272588006\n",
      "         x                  sin(x)             cos(x)      \n",
      "-------------------- ------------------- ------------------\n",
      "0.056605273037653926 0.05657504918379235 0.9983983492623831\n"
     ]
    }
   ],
   "source": [
    "for i in range(0,10):\n",
    "    print(data[i])"
   ]
  },
  {
   "cell_type": "code",
   "execution_count": null,
   "id": "7f10953d-3f1b-4f9e-8ee8-0c58631aeeef",
   "metadata": {},
   "outputs": [],
   "source": []
  }
 ],
 "metadata": {
  "kernelspec": {
   "display_name": "ASTR 19",
   "language": "python",
   "name": "astr19"
  },
  "language_info": {
   "codemirror_mode": {
    "name": "ipython",
    "version": 3
   },
   "file_extension": ".py",
   "mimetype": "text/x-python",
   "name": "python",
   "nbconvert_exporter": "python",
   "pygments_lexer": "ipython3",
   "version": "3.10.12"
  }
 },
 "nbformat": 4,
 "nbformat_minor": 5
}
